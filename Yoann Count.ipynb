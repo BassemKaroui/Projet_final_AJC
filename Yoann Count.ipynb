{
 "cells": [
  {
   "cell_type": "markdown",
   "id": "334bf004-213d-4dcf-9362-86d6e9a99ae4",
   "metadata": {},
   "source": [
    "## LIB"
   ]
  },
  {
   "cell_type": "code",
   "execution_count": 4,
   "id": "2c15bfcf-117d-4c77-bc7f-c49c5bba249e",
   "metadata": {},
   "outputs": [],
   "source": [
    "import os\n",
    "import matplotlib.pyplot as plt\n",
    "import pandas as pd\n",
    "import numpy as np\n",
    "from collections import Counter"
   ]
  },
  {
   "cell_type": "markdown",
   "id": "4a0daa4b-3db6-4f20-8b2b-f4fcf0390d2e",
   "metadata": {},
   "source": [
    "## IMPORT"
   ]
  },
  {
   "cell_type": "code",
   "execution_count": 2,
   "id": "0b4dc6c7-93f0-426d-a840-4a0ff3ed3cd7",
   "metadata": {},
   "outputs": [],
   "source": [
    "DATA_DIR = 'web_app/Human_protein_atlas'"
   ]
  },
  {
   "cell_type": "code",
   "execution_count": 5,
   "id": "5299b085-f848-4611-99f3-ffb92c0939e1",
   "metadata": {},
   "outputs": [],
   "source": [
    "TRAIN_CSV = os.path.join(DATA_DIR, 'train.csv')"
   ]
  },
  {
   "cell_type": "code",
   "execution_count": 159,
   "id": "bf738b54-a53e-45a0-bda1-f8e16a1a799d",
   "metadata": {},
   "outputs": [
    {
     "data": {
      "text/html": [
       "<div>\n",
       "<style scoped>\n",
       "    .dataframe tbody tr th:only-of-type {\n",
       "        vertical-align: middle;\n",
       "    }\n",
       "\n",
       "    .dataframe tbody tr th {\n",
       "        vertical-align: top;\n",
       "    }\n",
       "\n",
       "    .dataframe thead th {\n",
       "        text-align: right;\n",
       "    }\n",
       "</style>\n",
       "<table border=\"1\" class=\"dataframe\">\n",
       "  <thead>\n",
       "    <tr style=\"text-align: right;\">\n",
       "      <th></th>\n",
       "      <th>Image</th>\n",
       "      <th>Label</th>\n",
       "    </tr>\n",
       "  </thead>\n",
       "  <tbody>\n",
       "    <tr>\n",
       "      <th>0</th>\n",
       "      <td>19567</td>\n",
       "      <td>9</td>\n",
       "    </tr>\n",
       "    <tr>\n",
       "      <th>1</th>\n",
       "      <td>29993</td>\n",
       "      <td>6 4</td>\n",
       "    </tr>\n",
       "    <tr>\n",
       "      <th>2</th>\n",
       "      <td>17186</td>\n",
       "      <td>1 4</td>\n",
       "    </tr>\n",
       "    <tr>\n",
       "      <th>3</th>\n",
       "      <td>29600</td>\n",
       "      <td>6 2</td>\n",
       "    </tr>\n",
       "    <tr>\n",
       "      <th>4</th>\n",
       "      <td>701</td>\n",
       "      <td>3 4</td>\n",
       "    </tr>\n",
       "  </tbody>\n",
       "</table>\n",
       "</div>"
      ],
      "text/plain": [
       "   Image Label\n",
       "0  19567     9\n",
       "1  29993   6 4\n",
       "2  17186   1 4\n",
       "3  29600   6 2\n",
       "4    701   3 4"
      ]
     },
     "execution_count": 159,
     "metadata": {},
     "output_type": "execute_result"
    }
   ],
   "source": [
    "data_df = pd.read_csv(TRAIN_CSV)\n",
    "data_df.head()"
   ]
  },
  {
   "cell_type": "code",
   "execution_count": 13,
   "id": "27153aea-0652-4e62-9622-9d9d7d432721",
   "metadata": {},
   "outputs": [],
   "source": [
    "s = data_df['Label'].tolist()"
   ]
  },
  {
   "cell_type": "code",
   "execution_count": 39,
   "id": "27cbe9c2-2950-461d-9588-a46c5ac68e2b",
   "metadata": {},
   "outputs": [],
   "source": [
    "newList = []\n",
    "for i in s:\n",
    "    newList.append(i.split(' '))"
   ]
  },
  {
   "cell_type": "code",
   "execution_count": 57,
   "id": "db04063e-7fd7-458d-b284-88b8e0c355a9",
   "metadata": {},
   "outputs": [],
   "source": [
    "Final = []\n",
    "for i in range(len(newList)):\n",
    "    if len(newList[i]) <1 :\n",
    "        Final.append(int(newList[i]))\n",
    "    else :\n",
    "        for j in range(len(newList[i])):\n",
    "            Final.append(int(newList[i][j]))"
   ]
  },
  {
   "cell_type": "code",
   "execution_count": 64,
   "id": "47e37cc6-a84f-4f65-9de2-8985a1ff816f",
   "metadata": {},
   "outputs": [],
   "source": [
    "DataCount = Counter(Final)"
   ]
  },
  {
   "cell_type": "code",
   "execution_count": 85,
   "id": "41824e1d-2e38-4a9e-a450-0255bef4c374",
   "metadata": {},
   "outputs": [
    {
     "data": {
      "text/plain": [
       "dict_items([(9, 1278), (6, 5711), (4, 9066), (1, 1752), (2, 2542), (3, 1977), (7, 2629), (0, 2088), (8, 1037), (5, 1109)])"
      ]
     },
     "execution_count": 85,
     "metadata": {},
     "output_type": "execute_result"
    }
   ],
   "source": [
    "DataCount.items()"
   ]
  },
  {
   "cell_type": "code",
   "execution_count": 96,
   "id": "da72c0ab-d345-4435-8443-8baaada07f66",
   "metadata": {},
   "outputs": [
    {
     "data": {
      "image/png": "[encoded data removed]",
      "text/plain": [
       "<Figure size 432x288 with 1 Axes>"
      ]
     },
     "metadata": {
      "needs_background": "light"
     },
     "output_type": "display_data"
    }
   ],
   "source": [
    "labels, values = zip(*Counter(Final).most_common())\n",
    "\n",
    "indexes = np.arange(len(labels))\n",
    "width = 0.75\n",
    "\n",
    "plt.bar(indexes, values, width)\n",
    "plt.xticks(indexes , labels)\n",
    "plt.title(\"Most commun proteins\")\n",
    "plt.xlabel('Protein N°')\n",
    "plt.ylabel('Number of proteins')\n",
    "plt.show()"
   ]
  },
  {
   "cell_type": "code",
   "execution_count": 165,
   "id": "ada37ac2-1f16-4413-b832-f8b7b1cb0f37",
   "metadata": {},
   "outputs": [],
   "source": [
    "ProtDf = pd.DataFrame(list(DataCount.items()),columns=['Proteins', 'Count'])\n",
    "ProtDf['Name'] = [\"9-Nuclear speckles\",\"6-Cytosol\",\"4-Nucleoplasm\",\"1-Nuclear bodies\",\"2-Nucleoli\",\"3-Golgi apparatus\",\"7-Plasma membrane\",\"0-Mitochondria\",\"8-Centrosome\",\"5-Nucleoli fibrillar center\"]"
   ]
  },
  {
   "cell_type": "code",
   "execution_count": 166,
   "id": "e21b230f-6b64-4417-906d-616a4e6f2b70",
   "metadata": {},
   "outputs": [
    {
     "data": {
      "text/html": [
       "<div>\n",
       "<style scoped>\n",
       "    .dataframe tbody tr th:only-of-type {\n",
       "        vertical-align: middle;\n",
       "    }\n",
       "\n",
       "    .dataframe tbody tr th {\n",
       "        vertical-align: top;\n",
       "    }\n",
       "\n",
       "    .dataframe thead th {\n",
       "        text-align: right;\n",
       "    }\n",
       "</style>\n",
       "<table border=\"1\" class=\"dataframe\">\n",
       "  <thead>\n",
       "    <tr style=\"text-align: right;\">\n",
       "      <th></th>\n",
       "      <th>Proteins</th>\n",
       "      <th>Count</th>\n",
       "      <th>Name</th>\n",
       "    </tr>\n",
       "  </thead>\n",
       "  <tbody>\n",
       "    <tr>\n",
       "      <th>0</th>\n",
       "      <td>9</td>\n",
       "      <td>1278</td>\n",
       "      <td>9-Nuclear speckles</td>\n",
       "    </tr>\n",
       "    <tr>\n",
       "      <th>1</th>\n",
       "      <td>6</td>\n",
       "      <td>5711</td>\n",
       "      <td>6-Cytosol</td>\n",
       "    </tr>\n",
       "    <tr>\n",
       "      <th>2</th>\n",
       "      <td>4</td>\n",
       "      <td>9066</td>\n",
       "      <td>4-Nucleoplasm</td>\n",
       "    </tr>\n",
       "    <tr>\n",
       "      <th>3</th>\n",
       "      <td>1</td>\n",
       "      <td>1752</td>\n",
       "      <td>1-Nuclear bodies</td>\n",
       "    </tr>\n",
       "    <tr>\n",
       "      <th>4</th>\n",
       "      <td>2</td>\n",
       "      <td>2542</td>\n",
       "      <td>2-Nucleoli</td>\n",
       "    </tr>\n",
       "    <tr>\n",
       "      <th>5</th>\n",
       "      <td>3</td>\n",
       "      <td>1977</td>\n",
       "      <td>3-Golgi apparatus</td>\n",
       "    </tr>\n",
       "    <tr>\n",
       "      <th>6</th>\n",
       "      <td>7</td>\n",
       "      <td>2629</td>\n",
       "      <td>7-Plasma membrane</td>\n",
       "    </tr>\n",
       "    <tr>\n",
       "      <th>7</th>\n",
       "      <td>0</td>\n",
       "      <td>2088</td>\n",
       "      <td>0-Mitochondria</td>\n",
       "    </tr>\n",
       "    <tr>\n",
       "      <th>8</th>\n",
       "      <td>8</td>\n",
       "      <td>1037</td>\n",
       "      <td>8-Centrosome</td>\n",
       "    </tr>\n",
       "    <tr>\n",
       "      <th>9</th>\n",
       "      <td>5</td>\n",
       "      <td>1109</td>\n",
       "      <td>5-Nucleoli fibrillar center</td>\n",
       "    </tr>\n",
       "  </tbody>\n",
       "</table>\n",
       "</div>"
      ],
      "text/plain": [
       "   Proteins  Count                         Name\n",
       "0         9   1278           9-Nuclear speckles\n",
       "1         6   5711                    6-Cytosol\n",
       "2         4   9066                4-Nucleoplasm\n",
       "3         1   1752             1-Nuclear bodies\n",
       "4         2   2542                   2-Nucleoli\n",
       "5         3   1977            3-Golgi apparatus\n",
       "6         7   2629            7-Plasma membrane\n",
       "7         0   2088               0-Mitochondria\n",
       "8         8   1037                 8-Centrosome\n",
       "9         5   1109  5-Nucleoli fibrillar center"
      ]
     },
     "execution_count": 166,
     "metadata": {},
     "output_type": "execute_result"
    }
   ],
   "source": [
    "ProtDf"
   ]
  },
  {
   "cell_type": "code",
   "execution_count": 167,
   "id": "2399b8ff-0edc-4bce-be6c-b09fd8c28653",
   "metadata": {},
   "outputs": [
    {
     "data": {
      "text/plain": [
       "<AxesSubplot:xlabel='Count', ylabel='Name'>"
      ]
     },
     "execution_count": 167,
     "metadata": {},
     "output_type": "execute_result"
    },
    {
     "data": {
      "image/png": "[encoded data removed]",
      "text/plain": [
       "<Figure size 432x288 with 1 Axes>"
      ]
     },
     "metadata": {
      "needs_background": "light"
     },
     "output_type": "display_data"
    }
   ],
   "source": [
    "import seaborn as sns\n",
    "sns.barplot(x=\"Count\", y=\"Name\", data=ProtDf,order=[\"4-Nucleoplasm\",\"6-Cytosol\",\"7-Plasma membrane\",\"2-Nucleoli\",\"0-Mitochondria\",\"3-Golgi apparatus\",\"1-Nuclear bodies\",\"9-Nuclear speckles\",\"5-Nucleoli fibrillar center\",\"8-Centrosome\"])"
   ]
  },
  {
   "cell_type": "code",
   "execution_count": 139,
   "id": "e574c1bd-6e0f-4c8c-99ac-2cef13993a8a",
   "metadata": {},
   "outputs": [
    {
     "data": {
      "text/plain": [
       "0           [9]\n",
       "1        [6, 4]\n",
       "2        [1, 4]\n",
       "3        [6, 2]\n",
       "4        [3, 4]\n",
       "          ...  \n",
       "19231       [6]\n",
       "19232    [6, 7]\n",
       "19233       [4]\n",
       "19234       [5]\n",
       "19235    [8, 4]\n",
       "Name: Label, Length: 19236, dtype: object"
      ]
     },
     "execution_count": 139,
     "metadata": {},
     "output_type": "execute_result"
    }
   ],
   "source": [
    "data_df.Label.str.split()"
   ]
  },
  {
   "cell_type": "code",
   "execution_count": 160,
   "id": "d4c90d30-5f72-42b3-9d65-c4f5098fc4c5",
   "metadata": {},
   "outputs": [],
   "source": [
    "data_df[\"0-Mitochondria\"] = data_df[\"Label\"].apply(lambda x: 1 if '0'in x else 0)\n",
    "data_df[\"1-Nuclear bodies\"] = data_df[\"Label\"].apply(lambda x: 1 if '1'in x else 0)\n",
    "data_df[\"2-Nucleoli\"] = data_df[\"Label\"].apply(lambda x: 1 if '2'in x else 0)\n",
    "data_df[\"3-Golgi apparatus\"] = data_df[\"Label\"].apply(lambda x: 1 if '3'in x else 0)\n",
    "data_df[\"4-Nucleoplasm\"] = data_df[\"Label\"].apply(lambda x: 1 if '4'in x else 0)\n",
    "data_df[\"5-Nucleoli fibrillar center\"] = data_df[\"Label\"].apply(lambda x: 1 if '5'in x else 0)\n",
    "data_df[\"6-Cytosol\"] = data_df[\"Label\"].apply(lambda x: 1 if '6'in x else 0)\n",
    "data_df[\"7-Plasma membrane\"] = data_df[\"Label\"].apply(lambda x: 1 if '7'in x else 0)\n",
    "data_df[\"8-Centrosome\"] = data_df[\"Label\"].apply(lambda x: 1 if '8'in x else 0)\n",
    "data_df[\"9-Nuclear speckles\"] = data_df[\"Label\"].apply(lambda x: 1 if '9'in x else 0)"
   ]
  },
  {
   "cell_type": "code",
   "execution_count": 161,
   "id": "da33c045-72a8-4fc7-bce9-c30027147728",
   "metadata": {},
   "outputs": [
    {
     "data": {
      "text/html": [
       "<div>\n",
       "<style scoped>\n",
       "    .dataframe tbody tr th:only-of-type {\n",
       "        vertical-align: middle;\n",
       "    }\n",
       "\n",
       "    .dataframe tbody tr th {\n",
       "        vertical-align: top;\n",
       "    }\n",
       "\n",
       "    .dataframe thead th {\n",
       "        text-align: right;\n",
       "    }\n",
       "</style>\n",
       "<table border=\"1\" class=\"dataframe\">\n",
       "  <thead>\n",
       "    <tr style=\"text-align: right;\">\n",
       "      <th></th>\n",
       "      <th>Image</th>\n",
       "      <th>Label</th>\n",
       "      <th>0-Mitochondria</th>\n",
       "      <th>1-Nuclear bodies</th>\n",
       "      <th>2-Nucleoli</th>\n",
       "      <th>3-Golgi apparatus</th>\n",
       "      <th>4-Nucleoplasm</th>\n",
       "      <th>5-Nucleoli fibrillar center</th>\n",
       "      <th>6-Cytosol</th>\n",
       "      <th>7-Plasma membrane</th>\n",
       "      <th>8-Centrosome</th>\n",
       "      <th>9-Nuclear speckles</th>\n",
       "    </tr>\n",
       "  </thead>\n",
       "  <tbody>\n",
       "    <tr>\n",
       "      <th>0</th>\n",
       "      <td>19567</td>\n",
       "      <td>9</td>\n",
       "      <td>0</td>\n",
       "      <td>0</td>\n",
       "      <td>0</td>\n",
       "      <td>0</td>\n",
       "      <td>0</td>\n",
       "      <td>0</td>\n",
       "      <td>0</td>\n",
       "      <td>0</td>\n",
       "      <td>0</td>\n",
       "      <td>1</td>\n",
       "    </tr>\n",
       "    <tr>\n",
       "      <th>1</th>\n",
       "      <td>29993</td>\n",
       "      <td>6 4</td>\n",
       "      <td>0</td>\n",
       "      <td>0</td>\n",
       "      <td>0</td>\n",
       "      <td>0</td>\n",
       "      <td>1</td>\n",
       "      <td>0</td>\n",
       "      <td>1</td>\n",
       "      <td>0</td>\n",
       "      <td>0</td>\n",
       "      <td>0</td>\n",
       "    </tr>\n",
       "    <tr>\n",
       "      <th>2</th>\n",
       "      <td>17186</td>\n",
       "      <td>1 4</td>\n",
       "      <td>0</td>\n",
       "      <td>1</td>\n",
       "      <td>0</td>\n",
       "      <td>0</td>\n",
       "      <td>1</td>\n",
       "      <td>0</td>\n",
       "      <td>0</td>\n",
       "      <td>0</td>\n",
       "      <td>0</td>\n",
       "      <td>0</td>\n",
       "    </tr>\n",
       "    <tr>\n",
       "      <th>3</th>\n",
       "      <td>29600</td>\n",
       "      <td>6 2</td>\n",
       "      <td>0</td>\n",
       "      <td>0</td>\n",
       "      <td>1</td>\n",
       "      <td>0</td>\n",
       "      <td>0</td>\n",
       "      <td>0</td>\n",
       "      <td>1</td>\n",
       "      <td>0</td>\n",
       "      <td>0</td>\n",
       "      <td>0</td>\n",
       "    </tr>\n",
       "    <tr>\n",
       "      <th>4</th>\n",
       "      <td>701</td>\n",
       "      <td>3 4</td>\n",
       "      <td>0</td>\n",
       "      <td>0</td>\n",
       "      <td>0</td>\n",
       "      <td>1</td>\n",
       "      <td>1</td>\n",
       "      <td>0</td>\n",
       "      <td>0</td>\n",
       "      <td>0</td>\n",
       "      <td>0</td>\n",
       "      <td>0</td>\n",
       "    </tr>\n",
       "  </tbody>\n",
       "</table>\n",
       "</div>"
      ],
      "text/plain": [
       "   Image Label  0-Mitochondria  1-Nuclear bodies  2-Nucleoli  \\\n",
       "0  19567     9               0                 0           0   \n",
       "1  29993   6 4               0                 0           0   \n",
       "2  17186   1 4               0                 1           0   \n",
       "3  29600   6 2               0                 0           1   \n",
       "4    701   3 4               0                 0           0   \n",
       "\n",
       "   3-Golgi apparatus  4-Nucleoplasm  5-Nucleoli fibrillar center  6-Cytosol  \\\n",
       "0                  0              0                            0          0   \n",
       "1                  0              1                            0          1   \n",
       "2                  0              1                            0          0   \n",
       "3                  0              0                            0          1   \n",
       "4                  1              1                            0          0   \n",
       "\n",
       "   7-Plasma membrane  8-Centrosome  9-Nuclear speckles  \n",
       "0                  0             0                   1  \n",
       "1                  0             0                   0  \n",
       "2                  0             0                   0  \n",
       "3                  0             0                   0  \n",
       "4                  0             0                   0  "
      ]
     },
     "execution_count": 161,
     "metadata": {},
     "output_type": "execute_result"
    }
   ],
   "source": [
    "data_df.head()"
   ]
  },
  {
   "cell_type": "code",
   "execution_count": 162,
   "id": "5aa66b58-502c-44ad-b9c2-77f073763ed4",
   "metadata": {},
   "outputs": [],
   "source": [
    "dfCorr = data_df.drop([\"Image\",\"Label\"], axis=1)"
   ]
  },
  {
   "cell_type": "code",
   "execution_count": 163,
   "id": "0fc39c46-c1b5-4298-b5a4-8a9a62d14c83",
   "metadata": {},
   "outputs": [
    {
     "data": {
      "text/html": [
       "<div>\n",
       "<style scoped>\n",
       "    .dataframe tbody tr th:only-of-type {\n",
       "        vertical-align: middle;\n",
       "    }\n",
       "\n",
       "    .dataframe tbody tr th {\n",
       "        vertical-align: top;\n",
       "    }\n",
       "\n",
       "    .dataframe thead th {\n",
       "        text-align: right;\n",
       "    }\n",
       "</style>\n",
       "<table border=\"1\" class=\"dataframe\">\n",
       "  <thead>\n",
       "    <tr style=\"text-align: right;\">\n",
       "      <th></th>\n",
       "      <th>0-Mitochondria</th>\n",
       "      <th>1-Nuclear bodies</th>\n",
       "      <th>2-Nucleoli</th>\n",
       "      <th>3-Golgi apparatus</th>\n",
       "      <th>4-Nucleoplasm</th>\n",
       "      <th>5-Nucleoli fibrillar center</th>\n",
       "      <th>6-Cytosol</th>\n",
       "      <th>7-Plasma membrane</th>\n",
       "      <th>8-Centrosome</th>\n",
       "      <th>9-Nuclear speckles</th>\n",
       "    </tr>\n",
       "  </thead>\n",
       "  <tbody>\n",
       "    <tr>\n",
       "      <th>0-Mitochondria</th>\n",
       "      <td>1.000000</td>\n",
       "      <td>-0.090131</td>\n",
       "      <td>-0.058688</td>\n",
       "      <td>-0.115900</td>\n",
       "      <td>-0.140305</td>\n",
       "      <td>-0.062649</td>\n",
       "      <td>-0.173346</td>\n",
       "      <td>-0.112079</td>\n",
       "      <td>-0.064056</td>\n",
       "      <td>-0.071615</td>\n",
       "    </tr>\n",
       "    <tr>\n",
       "      <th>1-Nuclear bodies</th>\n",
       "      <td>-0.090131</td>\n",
       "      <td>1.000000</td>\n",
       "      <td>-0.097915</td>\n",
       "      <td>-0.075603</td>\n",
       "      <td>-0.095095</td>\n",
       "      <td>-0.072872</td>\n",
       "      <td>-0.053448</td>\n",
       "      <td>-0.084921</td>\n",
       "      <td>-0.061163</td>\n",
       "      <td>-0.082996</td>\n",
       "    </tr>\n",
       "    <tr>\n",
       "      <th>2-Nucleoli</th>\n",
       "      <td>-0.058688</td>\n",
       "      <td>-0.097915</td>\n",
       "      <td>1.000000</td>\n",
       "      <td>-0.069891</td>\n",
       "      <td>0.008286</td>\n",
       "      <td>-0.094543</td>\n",
       "      <td>-0.076503</td>\n",
       "      <td>-0.094481</td>\n",
       "      <td>-0.070717</td>\n",
       "      <td>-0.083758</td>\n",
       "    </tr>\n",
       "    <tr>\n",
       "      <th>3-Golgi apparatus</th>\n",
       "      <td>-0.115900</td>\n",
       "      <td>-0.075603</td>\n",
       "      <td>-0.069891</td>\n",
       "      <td>1.000000</td>\n",
       "      <td>-0.059937</td>\n",
       "      <td>-0.065352</td>\n",
       "      <td>-0.111267</td>\n",
       "      <td>-0.084325</td>\n",
       "      <td>-0.067904</td>\n",
       "      <td>-0.067604</td>\n",
       "    </tr>\n",
       "    <tr>\n",
       "      <th>4-Nucleoplasm</th>\n",
       "      <td>-0.140305</td>\n",
       "      <td>-0.095095</td>\n",
       "      <td>0.008286</td>\n",
       "      <td>-0.059937</td>\n",
       "      <td>1.000000</td>\n",
       "      <td>-0.056153</td>\n",
       "      <td>-0.032280</td>\n",
       "      <td>-0.082483</td>\n",
       "      <td>-0.019710</td>\n",
       "      <td>-0.225530</td>\n",
       "    </tr>\n",
       "    <tr>\n",
       "      <th>5-Nucleoli fibrillar center</th>\n",
       "      <td>-0.062649</td>\n",
       "      <td>-0.072872</td>\n",
       "      <td>-0.094543</td>\n",
       "      <td>-0.065352</td>\n",
       "      <td>-0.056153</td>\n",
       "      <td>1.000000</td>\n",
       "      <td>-0.067489</td>\n",
       "      <td>-0.082830</td>\n",
       "      <td>-0.047192</td>\n",
       "      <td>-0.052551</td>\n",
       "    </tr>\n",
       "    <tr>\n",
       "      <th>6-Cytosol</th>\n",
       "      <td>-0.173346</td>\n",
       "      <td>-0.053448</td>\n",
       "      <td>-0.076503</td>\n",
       "      <td>-0.111267</td>\n",
       "      <td>-0.032280</td>\n",
       "      <td>-0.067489</td>\n",
       "      <td>1.000000</td>\n",
       "      <td>-0.052511</td>\n",
       "      <td>-0.058885</td>\n",
       "      <td>-0.073752</td>\n",
       "    </tr>\n",
       "    <tr>\n",
       "      <th>7-Plasma membrane</th>\n",
       "      <td>-0.112079</td>\n",
       "      <td>-0.084921</td>\n",
       "      <td>-0.094481</td>\n",
       "      <td>-0.084325</td>\n",
       "      <td>-0.082483</td>\n",
       "      <td>-0.082830</td>\n",
       "      <td>-0.052511</td>\n",
       "      <td>1.000000</td>\n",
       "      <td>-0.056109</td>\n",
       "      <td>-0.049627</td>\n",
       "    </tr>\n",
       "    <tr>\n",
       "      <th>8-Centrosome</th>\n",
       "      <td>-0.064056</td>\n",
       "      <td>-0.061163</td>\n",
       "      <td>-0.070717</td>\n",
       "      <td>-0.067904</td>\n",
       "      <td>-0.019710</td>\n",
       "      <td>-0.047192</td>\n",
       "      <td>-0.058885</td>\n",
       "      <td>-0.056109</td>\n",
       "      <td>1.000000</td>\n",
       "      <td>-0.054437</td>\n",
       "    </tr>\n",
       "    <tr>\n",
       "      <th>9-Nuclear speckles</th>\n",
       "      <td>-0.071615</td>\n",
       "      <td>-0.082996</td>\n",
       "      <td>-0.083758</td>\n",
       "      <td>-0.067604</td>\n",
       "      <td>-0.225530</td>\n",
       "      <td>-0.052551</td>\n",
       "      <td>-0.073752</td>\n",
       "      <td>-0.049627</td>\n",
       "      <td>-0.054437</td>\n",
       "      <td>1.000000</td>\n",
       "    </tr>\n",
       "  </tbody>\n",
       "</table>\n",
       "</div>"
      ],
      "text/plain": [
       "                             0-Mitochondria  1-Nuclear bodies  2-Nucleoli  \\\n",
       "0-Mitochondria                     1.000000         -0.090131   -0.058688   \n",
       "1-Nuclear bodies                  -0.090131          1.000000   -0.097915   \n",
       "2-Nucleoli                        -0.058688         -0.097915    1.000000   \n",
       "3-Golgi apparatus                 -0.115900         -0.075603   -0.069891   \n",
       "4-Nucleoplasm                     -0.140305         -0.095095    0.008286   \n",
       "5-Nucleoli fibrillar center       -0.062649         -0.072872   -0.094543   \n",
       "6-Cytosol                         -0.173346         -0.053448   -0.076503   \n",
       "7-Plasma membrane                 -0.112079         -0.084921   -0.094481   \n",
       "8-Centrosome                      -0.064056         -0.061163   -0.070717   \n",
       "9-Nuclear speckles                -0.071615         -0.082996   -0.083758   \n",
       "\n",
       "                             3-Golgi apparatus  4-Nucleoplasm  \\\n",
       "0-Mitochondria                       -0.115900      -0.140305   \n",
       "1-Nuclear bodies                     -0.075603      -0.095095   \n",
       "2-Nucleoli                           -0.069891       0.008286   \n",
       "3-Golgi apparatus                     1.000000      -0.059937   \n",
       "4-Nucleoplasm                        -0.059937       1.000000   \n",
       "5-Nucleoli fibrillar center          -0.065352      -0.056153   \n",
       "6-Cytosol                            -0.111267      -0.032280   \n",
       "7-Plasma membrane                    -0.084325      -0.082483   \n",
       "8-Centrosome                         -0.067904      -0.019710   \n",
       "9-Nuclear speckles                   -0.067604      -0.225530   \n",
       "\n",
       "                             5-Nucleoli fibrillar center  6-Cytosol  \\\n",
       "0-Mitochondria                                 -0.062649  -0.173346   \n",
       "1-Nuclear bodies                               -0.072872  -0.053448   \n",
       "2-Nucleoli                                     -0.094543  -0.076503   \n",
       "3-Golgi apparatus                              -0.065352  -0.111267   \n",
       "4-Nucleoplasm                                  -0.056153  -0.032280   \n",
       "5-Nucleoli fibrillar center                     1.000000  -0.067489   \n",
       "6-Cytosol                                      -0.067489   1.000000   \n",
       "7-Plasma membrane                              -0.082830  -0.052511   \n",
       "8-Centrosome                                   -0.047192  -0.058885   \n",
       "9-Nuclear speckles                             -0.052551  -0.073752   \n",
       "\n",
       "                             7-Plasma membrane  8-Centrosome  \\\n",
       "0-Mitochondria                       -0.112079     -0.064056   \n",
       "1-Nuclear bodies                     -0.084921     -0.061163   \n",
       "2-Nucleoli                           -0.094481     -0.070717   \n",
       "3-Golgi apparatus                    -0.084325     -0.067904   \n",
       "4-Nucleoplasm                        -0.082483     -0.019710   \n",
       "5-Nucleoli fibrillar center          -0.082830     -0.047192   \n",
       "6-Cytosol                            -0.052511     -0.058885   \n",
       "7-Plasma membrane                     1.000000     -0.056109   \n",
       "8-Centrosome                         -0.056109      1.000000   \n",
       "9-Nuclear speckles                   -0.049627     -0.054437   \n",
       "\n",
       "                             9-Nuclear speckles  \n",
       "0-Mitochondria                        -0.071615  \n",
       "1-Nuclear bodies                      -0.082996  \n",
       "2-Nucleoli                            -0.083758  \n",
       "3-Golgi apparatus                     -0.067604  \n",
       "4-Nucleoplasm                         -0.225530  \n",
       "5-Nucleoli fibrillar center           -0.052551  \n",
       "6-Cytosol                             -0.073752  \n",
       "7-Plasma membrane                     -0.049627  \n",
       "8-Centrosome                          -0.054437  \n",
       "9-Nuclear speckles                     1.000000  "
      ]
     },
     "execution_count": 163,
     "metadata": {},
     "output_type": "execute_result"
    }
   ],
   "source": [
    "dfCorr.corr()"
   ]
  },
  {
   "cell_type": "code",
   "execution_count": 173,
   "id": "0820af9a-d5b8-4bbe-9e38-70c8cd085ebc",
   "metadata": {},
   "outputs": [
    {
     "data": {
      "text/plain": [
       "<AxesSubplot:>"
      ]
     },
     "execution_count": 173,
     "metadata": {},
     "output_type": "execute_result"
    },
    {
     "data": {
      "image/png": "[encoded data removed]",
      "text/plain": [
       "<Figure size 432x288 with 2 Axes>"
      ]
     },
     "metadata": {
      "needs_background": "light"
     },
     "output_type": "display_data"
    }
   ],
   "source": [
    "sns.heatmap(dfCorr.corr())"
   ]
  }
 ],
 "metadata": {
  "kernelspec": {
   "display_name": "Python 3",
   "language": "python",
   "name": "python3"
  },
  "language_info": {
   "codemirror_mode": {
    "name": "ipython",
    "version": 3
   },
   "file_extension": ".py",
   "mimetype": "text/x-python",
   "name": "python",
   "nbconvert_exporter": "python",
   "pygments_lexer": "ipython3",
   "version": "3.8.11"
  }
 },
 "nbformat": 4,
 "nbformat_minor": 5
}
